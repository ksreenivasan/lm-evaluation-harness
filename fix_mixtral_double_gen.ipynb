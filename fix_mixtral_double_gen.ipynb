{
 "cells": [
  {
   "cell_type": "code",
   "execution_count": 2,
   "metadata": {},
   "outputs": [],
   "source": [
    "import pandas as pd\n",
    "import json"
   ]
  },
  {
   "cell_type": "code",
   "execution_count": 5,
   "metadata": {},
   "outputs": [],
   "source": [
    "doubled_completions = []\n",
    "with open(\"gsm8k_outputs/mixtral-8x22b_completion_temp0.0.jsonl.doubled\", \"r\") as f:\n",
    "    data = f.readlines()\n",
    "    doubled_completions = [json.loads(x) for x in data]\n",
    "\n",
    "with open(\"lm_eval_harness_gsm8k_problem_list.json\", \"r\") as f:\n",
    "    problem_list = json.load(f)"
   ]
  },
  {
   "cell_type": "code",
   "execution_count": 7,
   "metadata": {},
   "outputs": [
    {
     "data": {
      "text/plain": [
       "{'task_id': 'gsm8k',\n",
       " 'prompt': \"Question: Jen and Tyler are gymnasts practicing flips. Jen is practicing the triple-flip while Tyler is practicing the double-flip. Jen did sixteen triple-flips during practice. Tyler flipped in the air half the number of times Jen did. How many double-flips did Tyler do?\\nAnswer: Jen did 16 triple-flips, so she did 16 * 3 = <<16*3=48>>48 flips.\\nTyler did half the number of flips, so he did 48 / 2 = <<48/2=24>>24 flips.\\nA double flip has two flips, so Tyler did 24 / 2 = <<24/2=12>>12 double-flips.\\n#### 12\\n\\nQuestion: Four people in a law firm are planning a party. Mary will buy a platter of pasta for $20 and a loaf of bread for $2. Elle and Andrea will split the cost for buying 4 cans of soda which cost $1.50 each, and chicken wings for $10. Joe will buy a cake that costs $5. How much more will Mary spend than the rest of the firm put together?\\nAnswer: Mary will spend $20 + $2 = $<<20+2=22>>22.\\nElle and Andrea will spend $1.5 x 4 = $<<1.5*4=6>>6 for the soda.\\nElle and Andrea will spend $6 + $10 = $<<6+10=16>>16 for the soda and chicken wings.\\nElle, Andrea, and Joe together will spend $16 + $5 = $<<16+5=21>>21.\\nSo, Mary will spend $22 - $21 = $<<22-21=1>>1 more than all of them combined.\\n#### 1\\n\\nQuestion: A charcoal grill burns fifteen coals to ash every twenty minutes of grilling. The grill ran for long enough to burn three bags of coals. Each bag of coal contains 60 coals. How long did the grill run?\\nAnswer: The grill burned 3 * 60 = <<3*60=180>>180 coals.\\nIt takes 20 minutes to burn 15 coals, so the grill ran for 180 / 15 * 20 = <<180/15*20=240>>240 minutes.\\n#### 240\\n\\nQuestion: A bear is preparing to hibernate for the winter and needs to gain 1000 pounds. At the end of summer, the bear feasts on berries and small woodland animals. During autumn, it devours acorns and salmon. It gained a fifth of the weight it needed from berries during summer, and during autumn, it gained twice that amount from acorns. Salmon made up half of the remaining weight it had needed to gain. How many pounds did it gain eating small animals?\\nAnswer: The bear gained 1 / 5 * 1000 = <<1/5*1000=200>>200 pounds from berries.\\nIt gained 2 * 200 = <<2*200=400>>400 pounds from acorns.\\nIt still needed 1000 - 200 - 400 = <<1000-200-400=400>>400 pounds.\\nThus, it gained 400 / 2 = <<400/2=200>>200 pounds from salmon.\\nTherefore, the bear gained 400 - 200 = <<400-200=200>>200 pounds from small animals.\\n#### 200\\n\\nQuestion: Brendan can cut 8 yards of grass per day, he bought a lawnmower and it helped him to cut more yards by Fifty percent per day. How many yards will Brendan be able to cut after a week?\\nAnswer: The additional yard Brendan can cut after buying the lawnmower is 8 x 0.50 = <<8*0.50=4>>4 yards.\\nSo, the total yards he can cut with the lawnmower is 8 + 4 = <<8+4=12>>12.\\nTherefore, the total number of yards he can cut in a week is 12 x 7 = <<12*7=84>>84 yards.\\n#### 84\\n\\nQuestion: Janet’s ducks lay 16 eggs per day. She eats three for breakfast every morning and bakes muffins for her friends every day with four. She sells the remainder at the farmers' market daily for $2 per fresh duck egg. How much in dollars does she make every day at the farmers' market?\\nAnswer:\",\n",
       " 'model': 'mixtral-8x22b',\n",
       " 'generation_kwargs': {'temperature': 0.0, 'max_tokens': 256},\n",
       " 'prompt_prefix': '',\n",
       " 'mode': 'completion',\n",
       " 'api_base': None,\n",
       " 'api_key': None,\n",
       " 'completion': \" Janet uses 3 + 4 = <<3+4=7>>7 eggs for her breakfast and baking.\\nSo, she has 16 - 7 = <<16-7=9>>9 eggs left to sell.\\nShe sells these eggs for $2 each, so she makes 9 * $2 = $<<9*2=18>>18 every day at the farmers' market.\\n#### $18\"}"
      ]
     },
     "execution_count": 7,
     "metadata": {},
     "output_type": "execute_result"
    }
   ],
   "source": [
    "doubled_completions[0]"
   ]
  },
  {
   "cell_type": "code",
   "execution_count": 8,
   "metadata": {},
   "outputs": [
    {
     "data": {
      "text/plain": [
       "{'prompt': \"Question: Jen and Tyler are gymnasts practicing flips. Jen is practicing the triple-flip while Tyler is practicing the double-flip. Jen did sixteen triple-flips during practice. Tyler flipped in the air half the number of times Jen did. How many double-flips did Tyler do?\\nAnswer: Jen did 16 triple-flips, so she did 16 * 3 = <<16*3=48>>48 flips.\\nTyler did half the number of flips, so he did 48 / 2 = <<48/2=24>>24 flips.\\nA double flip has two flips, so Tyler did 24 / 2 = <<24/2=12>>12 double-flips.\\n#### 12\\n\\nQuestion: Four people in a law firm are planning a party. Mary will buy a platter of pasta for $20 and a loaf of bread for $2. Elle and Andrea will split the cost for buying 4 cans of soda which cost $1.50 each, and chicken wings for $10. Joe will buy a cake that costs $5. How much more will Mary spend than the rest of the firm put together?\\nAnswer: Mary will spend $20 + $2 = $<<20+2=22>>22.\\nElle and Andrea will spend $1.5 x 4 = $<<1.5*4=6>>6 for the soda.\\nElle and Andrea will spend $6 + $10 = $<<6+10=16>>16 for the soda and chicken wings.\\nElle, Andrea, and Joe together will spend $16 + $5 = $<<16+5=21>>21.\\nSo, Mary will spend $22 - $21 = $<<22-21=1>>1 more than all of them combined.\\n#### 1\\n\\nQuestion: A charcoal grill burns fifteen coals to ash every twenty minutes of grilling. The grill ran for long enough to burn three bags of coals. Each bag of coal contains 60 coals. How long did the grill run?\\nAnswer: The grill burned 3 * 60 = <<3*60=180>>180 coals.\\nIt takes 20 minutes to burn 15 coals, so the grill ran for 180 / 15 * 20 = <<180/15*20=240>>240 minutes.\\n#### 240\\n\\nQuestion: A bear is preparing to hibernate for the winter and needs to gain 1000 pounds. At the end of summer, the bear feasts on berries and small woodland animals. During autumn, it devours acorns and salmon. It gained a fifth of the weight it needed from berries during summer, and during autumn, it gained twice that amount from acorns. Salmon made up half of the remaining weight it had needed to gain. How many pounds did it gain eating small animals?\\nAnswer: The bear gained 1 / 5 * 1000 = <<1/5*1000=200>>200 pounds from berries.\\nIt gained 2 * 200 = <<2*200=400>>400 pounds from acorns.\\nIt still needed 1000 - 200 - 400 = <<1000-200-400=400>>400 pounds.\\nThus, it gained 400 / 2 = <<400/2=200>>200 pounds from salmon.\\nTherefore, the bear gained 400 - 200 = <<400-200=200>>200 pounds from small animals.\\n#### 200\\n\\nQuestion: Brendan can cut 8 yards of grass per day, he bought a lawnmower and it helped him to cut more yards by Fifty percent per day. How many yards will Brendan be able to cut after a week?\\nAnswer: The additional yard Brendan can cut after buying the lawnmower is 8 x 0.50 = <<8*0.50=4>>4 yards.\\nSo, the total yards he can cut with the lawnmower is 8 + 4 = <<8+4=12>>12.\\nTherefore, the total number of yards he can cut in a week is 12 x 7 = <<12*7=84>>84 yards.\\n#### 84\\n\\nQuestion: Janet’s ducks lay 16 eggs per day. She eats three for breakfast every morning and bakes muffins for her friends every day with four. She sells the remainder at the farmers' market daily for $2 per fresh duck egg. How much in dollars does she make every day at the farmers' market?\\nAnswer:\",\n",
       " 'doc': {'question': \"Janet’s ducks lay 16 eggs per day. She eats three for breakfast every morning and bakes muffins for her friends every day with four. She sells the remainder at the farmers' market daily for $2 per fresh duck egg. How much in dollars does she make every day at the farmers' market?\",\n",
       "  'answer': 'Janet sells 16 - 3 - 4 = <<16-3-4=9>>9 duck eggs a day.\\nShe makes 9 * 2 = $<<9*2=18>>18 every day at the farmer’s market.\\n#### 18'},\n",
       " 'doc_id': 0,\n",
       " 'filtered_resps': {},\n",
       " 'resps': ['16 eggs - 3 for breakfast - 4 for muffins = 16 - 7 = <<16-7=9>>9 eggs left.\\nShe sells them for $2 each, so she makes 9 x $2 = $<<9*2=18>>18 every day.\\n#### 18\\n\\n'],\n",
       " 'idx': 0,\n",
       " 'metadata': ['gsm8k', 0, 1],\n",
       " 'request_type': 'generate_until',\n",
       " 'repeats': 1,\n",
       " 'task_name': 'gsm8k'}"
      ]
     },
     "execution_count": 8,
     "metadata": {},
     "output_type": "execute_result"
    }
   ],
   "source": [
    "problem_list[0]"
   ]
  },
  {
   "cell_type": "code",
   "execution_count": 23,
   "metadata": {},
   "outputs": [],
   "source": [
    "deduped_list = []\n",
    "num_mismatches = 0\n",
    "for idx, problem in enumerate(problem_list):\n",
    "    if doubled_completions[idx][\"prompt\"] == problem[\"prompt\"]:\n",
    "        deduped_list.append(doubled_completions[idx])\n",
    "    else:\n",
    "        num_mismatches += 1\n",
    "        for completion in doubled_completions:\n",
    "            if completion[\"prompt\"] == problem[\"prompt\"]:\n",
    "                deduped_list.append(completion)\n",
    "                break"
   ]
  },
  {
   "cell_type": "code",
   "execution_count": 24,
   "metadata": {},
   "outputs": [
    {
     "data": {
      "text/plain": [
       "1305"
      ]
     },
     "execution_count": 24,
     "metadata": {},
     "output_type": "execute_result"
    }
   ],
   "source": [
    "num_mismatches"
   ]
  },
  {
   "cell_type": "code",
   "execution_count": 25,
   "metadata": {},
   "outputs": [
    {
     "data": {
      "text/plain": [
       "1319"
      ]
     },
     "execution_count": 25,
     "metadata": {},
     "output_type": "execute_result"
    }
   ],
   "source": [
    "len(deduped_list)"
   ]
  },
  {
   "cell_type": "code",
   "execution_count": 26,
   "metadata": {},
   "outputs": [
    {
     "data": {
      "text/plain": [
       "1319"
      ]
     },
     "execution_count": 26,
     "metadata": {},
     "output_type": "execute_result"
    }
   ],
   "source": [
    "len(problem_list)"
   ]
  },
  {
   "cell_type": "code",
   "execution_count": 27,
   "metadata": {},
   "outputs": [],
   "source": [
    "for idx, problem in enumerate(problem_list):\n",
    "    if deduped_list[idx][\"prompt\"] == problem[\"prompt\"]:\n",
    "        pass\n",
    "    else:\n",
    "        print(f\"Mismatch at {idx}\")"
   ]
  },
  {
   "cell_type": "code",
   "execution_count": 28,
   "metadata": {},
   "outputs": [],
   "source": [
    "with open(\"gsm8k_outputs/mixtral-8x22b_completion_temp0.0.jsonl\", \"w\") as f:\n",
    "    # write deduped_list to file\n",
    "    for completion in deduped_list:\n",
    "        print(json.dumps(completion), file=f)"
   ]
  },
  {
   "cell_type": "code",
   "execution_count": 29,
   "metadata": {},
   "outputs": [
    {
     "data": {
      "text/plain": [
       "{'task_id': 'gsm8k',\n",
       " 'prompt': \"Question: Jen and Tyler are gymnasts practicing flips. Jen is practicing the triple-flip while Tyler is practicing the double-flip. Jen did sixteen triple-flips during practice. Tyler flipped in the air half the number of times Jen did. How many double-flips did Tyler do?\\nAnswer: Jen did 16 triple-flips, so she did 16 * 3 = <<16*3=48>>48 flips.\\nTyler did half the number of flips, so he did 48 / 2 = <<48/2=24>>24 flips.\\nA double flip has two flips, so Tyler did 24 / 2 = <<24/2=12>>12 double-flips.\\n#### 12\\n\\nQuestion: Four people in a law firm are planning a party. Mary will buy a platter of pasta for $20 and a loaf of bread for $2. Elle and Andrea will split the cost for buying 4 cans of soda which cost $1.50 each, and chicken wings for $10. Joe will buy a cake that costs $5. How much more will Mary spend than the rest of the firm put together?\\nAnswer: Mary will spend $20 + $2 = $<<20+2=22>>22.\\nElle and Andrea will spend $1.5 x 4 = $<<1.5*4=6>>6 for the soda.\\nElle and Andrea will spend $6 + $10 = $<<6+10=16>>16 for the soda and chicken wings.\\nElle, Andrea, and Joe together will spend $16 + $5 = $<<16+5=21>>21.\\nSo, Mary will spend $22 - $21 = $<<22-21=1>>1 more than all of them combined.\\n#### 1\\n\\nQuestion: A charcoal grill burns fifteen coals to ash every twenty minutes of grilling. The grill ran for long enough to burn three bags of coals. Each bag of coal contains 60 coals. How long did the grill run?\\nAnswer: The grill burned 3 * 60 = <<3*60=180>>180 coals.\\nIt takes 20 minutes to burn 15 coals, so the grill ran for 180 / 15 * 20 = <<180/15*20=240>>240 minutes.\\n#### 240\\n\\nQuestion: A bear is preparing to hibernate for the winter and needs to gain 1000 pounds. At the end of summer, the bear feasts on berries and small woodland animals. During autumn, it devours acorns and salmon. It gained a fifth of the weight it needed from berries during summer, and during autumn, it gained twice that amount from acorns. Salmon made up half of the remaining weight it had needed to gain. How many pounds did it gain eating small animals?\\nAnswer: The bear gained 1 / 5 * 1000 = <<1/5*1000=200>>200 pounds from berries.\\nIt gained 2 * 200 = <<2*200=400>>400 pounds from acorns.\\nIt still needed 1000 - 200 - 400 = <<1000-200-400=400>>400 pounds.\\nThus, it gained 400 / 2 = <<400/2=200>>200 pounds from salmon.\\nTherefore, the bear gained 400 - 200 = <<400-200=200>>200 pounds from small animals.\\n#### 200\\n\\nQuestion: Brendan can cut 8 yards of grass per day, he bought a lawnmower and it helped him to cut more yards by Fifty percent per day. How many yards will Brendan be able to cut after a week?\\nAnswer: The additional yard Brendan can cut after buying the lawnmower is 8 x 0.50 = <<8*0.50=4>>4 yards.\\nSo, the total yards he can cut with the lawnmower is 8 + 4 = <<8+4=12>>12.\\nTherefore, the total number of yards he can cut in a week is 12 x 7 = <<12*7=84>>84 yards.\\n#### 84\\n\\nQuestion: Janet’s ducks lay 16 eggs per day. She eats three for breakfast every morning and bakes muffins for her friends every day with four. She sells the remainder at the farmers' market daily for $2 per fresh duck egg. How much in dollars does she make every day at the farmers' market?\\nAnswer:\",\n",
       " 'model': 'mixtral-8x22b',\n",
       " 'generation_kwargs': {'temperature': 0.0, 'max_tokens': 256},\n",
       " 'prompt_prefix': '',\n",
       " 'mode': 'completion',\n",
       " 'api_base': None,\n",
       " 'api_key': None,\n",
       " 'completion': \" Janet uses 3 + 4 = <<3+4=7>>7 eggs for her breakfast and baking.\\nSo, she has 16 - 7 = <<16-7=9>>9 eggs left to sell.\\nShe sells these eggs for $2 each, so she makes 9 * $2 = $<<9*2=18>>18 every day at the farmers' market.\\n#### $18\"}"
      ]
     },
     "execution_count": 29,
     "metadata": {},
     "output_type": "execute_result"
    }
   ],
   "source": [
    "deduped_list[0]"
   ]
  },
  {
   "cell_type": "code",
   "execution_count": null,
   "metadata": {},
   "outputs": [],
   "source": []
  }
 ],
 "metadata": {
  "kernelspec": {
   "display_name": ".venv",
   "language": "python",
   "name": "python3"
  },
  "language_info": {
   "codemirror_mode": {
    "name": "ipython",
    "version": 3
   },
   "file_extension": ".py",
   "mimetype": "text/x-python",
   "name": "python",
   "nbconvert_exporter": "python",
   "pygments_lexer": "ipython3",
   "version": "3.12.2"
  }
 },
 "nbformat": 4,
 "nbformat_minor": 2
}
